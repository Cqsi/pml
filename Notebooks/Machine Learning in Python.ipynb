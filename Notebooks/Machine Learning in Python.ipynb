{
 "cells": [
  {
   "cell_type": "markdown",
   "metadata": {},
   "source": [
    "# 1. The Data Science process (scikit-learn)\n",
    "\n",
    "## 1. Collect the data\n",
    "\n",
    "Take a look at the data. Understand the features\n",
    "\n",
    "## 2. Process the data\n",
    "\n",
    "Now that you have all of the raw data, you’ll need to process it before you can do any analysis. Oftentimes, data can be quite messy, especially if it hasn’t been well-maintained. You’ll see errors that will corrupt your analysis: values set to null though they really are zero, duplicate values, and missing values. It’s up to you to go through and check your data to make sure you’ll get accurate insights.\n",
    "\n",
    "**You’ll want to check for the following common errors:**\n",
    "\n",
    "1. **Missing values**, perhaps customers without an initial contact date\n",
    "2. **Corrupted values**, such as invalid entries\n",
    "3. **Timezone differences**, perhaps your database doesn’t take into account the different timezones of your users\n",
    "4. **Date range errors**, perhaps you’ll have dates that makes no sense, such as data registered from before sales started\n",
    "\n",
    "### 2.1 Feature engineering\n",
    "\n",
    "## 3. Explore and understand the data\n",
    "\n",
    "One of the first things to do when starting to do the actual programming, is to import the libraries. Pandas, Numpy and matplotlib are the most standard libraries that are nearly always used. Here we use scikit-learn for the actual machine learning model."
   ]
  },
  {
   "cell_type": "code",
   "execution_count": null,
   "metadata": {},
   "outputs": [],
   "source": [
    "import pandas as pd\n",
    "import numpy as np\n",
    "import matplotlib.pyplot as plt\n",
    "\n",
    "# scikit-learn\n",
    "from sklearn import linear_model"
   ]
  },
  {
   "cell_type": "markdown",
   "metadata": {},
   "source": [
    "The next step is to get some understan\n",
    "\n",
    "## 4. Choose the machine learning model"
   ]
  }
 ],
 "metadata": {
  "kernelspec": {
   "display_name": "Python 3",
   "language": "python",
   "name": "python3"
  },
  "language_info": {
   "codemirror_mode": {
    "name": "ipython",
    "version": 3
   },
   "file_extension": ".py",
   "mimetype": "text/x-python",
   "name": "python",
   "nbconvert_exporter": "python",
   "pygments_lexer": "ipython3",
   "version": "3.8.5"
  }
 },
 "nbformat": 4,
 "nbformat_minor": 4
}
